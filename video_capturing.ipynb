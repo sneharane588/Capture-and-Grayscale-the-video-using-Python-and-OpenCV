{
 "cells": [
  {
   "cell_type": "markdown",
   "metadata": {},
   "source": [
    "#### import required libraries"
   ]
  },
  {
   "cell_type": "code",
   "execution_count": 3,
   "metadata": {},
   "outputs": [],
   "source": [
    "import cv2\n",
    "import numpy as np"
   ]
  },
  {
   "cell_type": "markdown",
   "metadata": {},
   "source": [
    "#### capturing from 0th webcam"
   ]
  },
  {
   "cell_type": "code",
   "execution_count": 5,
   "metadata": {},
   "outputs": [],
   "source": [
    "cap = cv2.VideoCapture(0)\n",
    "\n",
    "# 0 for 1st webcam\n",
    "# 1 for 2nd webcam\n",
    "\n",
    "fourcc = cv2.VideoWriter_fourcc(*'XVID') # we want to record and store the output video captured #line1\n",
    "out = cv2.VideoWriter('output_video.avi',fourcc, 20.0, (640, 480)) #('name of output file', codec, position, size) #line2"
   ]
  },
  {
   "cell_type": "markdown",
   "metadata": {},
   "source": [
    "#### cvtColor is function for converting the color"
   ]
  },
  {
   "cell_type": "code",
   "execution_count": 6,
   "metadata": {},
   "outputs": [],
   "source": [
    "while True:   #infinite loop\n",
    "    ret, frame = cap.read()\n",
    "    \n",
    "    gray = cv2.cvtColor(frame, cv2.COLOR_BGR2GRAY) #to convert gray\n",
    "    \n",
    "    \n",
    "    out.write(frame) #line3\n",
    "    \n",
    "    cv2.imshow('Frame',frame) # to show the colored frame\n",
    "    cv2.imshow('Gray',gray) # to show gray frame\n",
    "    \n",
    "    if cv2.waitKey(1) & 0xFF == ord('q'):   # to go out from infinite loop\n",
    "        break  \n",
    "        \n",
    "cap.release()\n",
    "out.release() #line4\n",
    "cv2.destroyAllWindows()"
   ]
  }
 ],
 "metadata": {
  "kernelspec": {
   "display_name": "Python 3",
   "language": "python",
   "name": "python3"
  },
  "language_info": {
   "codemirror_mode": {
    "name": "ipython",
    "version": 3
   },
   "file_extension": ".py",
   "mimetype": "text/x-python",
   "name": "python",
   "nbconvert_exporter": "python",
   "pygments_lexer": "ipython3",
   "version": "3.8.2"
  }
 },
 "nbformat": 4,
 "nbformat_minor": 4
}
